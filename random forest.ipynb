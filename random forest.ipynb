{
 "cells": [
  {
   "cell_type": "code",
   "execution_count": null,
   "id": "221fe0d6-a377-4da6-8d89-1b6fef8d9ec0",
   "metadata": {
    "tags": []
   },
   "outputs": [],
   "source": [
    "import sys\n",
    "import csv\n",
    "import dtetime\n",
    "import numpy as np\n",
    "import pandas as pd\n",
    "import matplotlib.pyplot as plt\n",
    "from datetime import datetime \n",
    "from sklearn import metrics\n",
    "from sklearn.model_selection import cross_validate\n",
    "from sklearn.model_selection import cross_val_score\n",
    "import gender_guesser.detector as gender\n",
    "from sklearn import preprocessing\n",
    "from sklearn.metrics import roc_curve,auc\n",
    "from sklearn.ensemble import RandomForestClassifier\n",
    "from sklearn.model_selection import StratifiedFold, train_test_split\n",
    "from sklearn.model_selection import learning_curve\n",
    "from sklearn.metrics import accuracy_score\n",
    "from sklearn.metrics import classification_report\n",
    "from sklearn.metrics import confusion_matrix\n"
   ]
  },
  {
   "cell_type": "code",
   "execution_count": null,
   "id": "f956f89e-5b0b-4448-90da-7b0abf2a4a23",
   "metadata": {},
   "outputs": [],
   "source": [
    "def read_datasets():\n",
    "    \"\"\" Reads users profile from csv files \"\"\"\n",
    "    actual_users = pd.read_csv(\"C:\\\\Users\\\\SAHASRI\\\\Downloads\\\\actual_users.csv\")\n",
    "    fake_users = pd.read_csv(\"C:\\\\Users\\\\SAHASRI\\\\Downloads\\\\fake_users.csv\")\n",
    "    # print genuine_users.columns\n",
    "    # print genuine_users.describe()\n",
    "    #print fake_users.describe()\n",
    "    x=pd.concat([actual_users,fake_users])   \n",
    "    y=len(fake_users)*[0] + len(actual_users)*[1]\n",
    "    return x,y\n"
   ]
  },
  {
   "cell_type": "code",
   "execution_count": null,
   "id": "ba510f47-63d7-44ee-9de6-06a3ada23f73",
   "metadata": {},
   "outputs": [],
   "source": [
    "def predict_sex(name):\n",
    "    d=gender.Detector()\n",
    "    first_name= name.str.split(' ').str.get(0)\n",
    "    sex= first_name.apply(d.get_gender)\n",
    "    sex_dict={'female': -2, 'mostly_female': -1,'unknown':0,'mostly_male':1, 'male': 2,'únknown':-2,'andy':2}\n",
    "    sex_code = sex.map(sex_dict).astype(int)\n",
    "    return sex_code"
   ]
  },
  {
   "cell_type": "code",
   "execution_count": null,
   "id": "344746e3-bcbd-4336-bd53-a7de096149f8",
   "metadata": {},
   "outputs": [],
   "source": [
    "def extract_features(x):\n",
    "    lang_list = list(enumerate(np.unique(x['lang'])))   \n",
    "    lang_dict = { name : i for i, name in lang_list }             \n",
    "    x.loc[:,'lang_code'] = x['lang'].map( lambda x: lang_dict[x]).astype(int)    \n",
    "    feature_columns_to_use = ['statuses_count','followers_count','friends_count','favourites_count','listed_count','sex_code','lang_code']\n",
    "    x=x.loc[:,feature_columns_to_use]\n",
    "    return x"
   ]
  },
  {
   "cell_type": "code",
   "execution_count": null,
   "id": "0a83ef96-66c0-4ba5-8125-cd5692ca62ae",
   "metadata": {},
   "outputs": [],
   "source": [
    "def plot_confusion_matrix(cm, title='Confusion matrix', cmap=plt.cm.Blues):\n",
    "    target_names=['Fake','Actual']\n",
    "    plt.imshow(cm, interpolation='nearest', cmap=cmap)\n",
    "    plt.title(title)\n",
    "    plt.colorbar()\n",
    "    tick_marks = np.arange(len(target_names))\n",
    "    plt.xticks(tick_marks, target_names, rotation=45)\n",
    "    plt.yticks(tick_marks, target_names)\n",
    "    plt.tight_layout()\n",
    "    plt.ylabel('True label')\n",
    "    plt.xlabel('Predicted label')\n"
   ]
  },
  {
   "cell_type": "code",
   "execution_count": null,
   "id": "54eec534-7a0b-4849-a0a9-24315efb8e83",
   "metadata": {},
   "outputs": [],
   "source": [
    "def plot_roc_curve(y_test, y_pred):\n",
    "    false_positive_rate, true_positive_rate, thresholds = roc_curve(y_test, y_pred)\n",
    "\n",
    "    print (\"False Positive rate: \",false_positive_rate)\n",
    "    print (\"True Positive rate: \",true_positive_rate)\n",
    "\n",
    "\n",
    "    roc_auc = auc(false_positive_rate, true_positive_rate)\n",
    "\n",
    "    plt.title('Receiver Operating Characteristic')\n",
    "    plt.plot(false_positive_rate, true_positive_rate, 'b',\n",
    "    label='AUC = %0.2f'% roc_auc)\n",
    "    plt.legend(loc='lower right')\n",
    "    plt.plot([0,1],[0,1],'r--')\n",
    "    plt.xlim([-0.1,1.2])\n",
    "    plt.ylim([-0.1,1.2])\n",
    "    plt.ylabel('True Positive Rate')\n",
    "    plt.xlabel('False Positive Rate')\n",
    "    plt.show()\n"
   ]
  },
  {
   "cell_type": "code",
   "execution_count": null,
   "id": "832d22b4-1384-4c83-a9b0-14b4778a324e",
   "metadata": {},
   "outputs": [],
   "source": [
    "def train(X_train,y_train,X_test):\n",
    "    \n",
    "    \"\"\" Trains and predicts dataset with a  Random Forest  classifier \"\"\"\n",
    "    clf=RandomForestClassifier(n_estimators=40,oob_score=True)\n",
    "    clf.fit(X_train,y_train)\n",
    "    print(\"The best classifier is: \",clf)\n",
    "    #estimate score\n",
    "    scores=cross_val_score(clf,X_train,y_train,cv=5)\n",
    "    print(scores)\n",
    "    print('Estimatedscore: %0.5f(+/-%0.5f)' % (score.mean(),score.std()/2))\n",
    "    title='Learning Curves (Random Forest)'\n",
    "    plot_learning_curve(clf,title,X_train,y_train,cv=5)\n",
    "    plt.show()\n",
    "    #predict\n",
    "    y_pred=clf.predict(X_test)\n",
    "    return y_test,y_pred"
   ]
  },
  {
   "cell_type": "code",
   "execution_count": null,
   "id": "45c61dd9-dcc0-4bee-a2c8-292b2d219f0f",
   "metadata": {},
   "outputs": [],
   "source": [
    "print (\"reading datasets.....\\n\")\n",
    "x,y=read_datasets()\n",
    "x.describe()\n"
   ]
  },
  {
   "cell_type": "code",
   "execution_count": null,
   "id": "4599cdeb-f288-4fc9-abf1-0c51f42bc02c",
   "metadata": {},
   "outputs": [],
   "source": [
    "print (\"extracting featues.....\\n\")\n",
    "x=extract_features(x)\n",
    "x.columns\n",
    "x.describe()"
   ]
  },
  {
   "cell_type": "code",
   "execution_count": null,
   "id": "3cbc3e3e-4aad-43fa-8460-720aabec6d4b",
   "metadata": {},
   "outputs": [],
   "source": [
    "print (\"training datasets.......\\n\")\n",
    "y_test,y_pred =train(X_train,y_train,X_test)\n"
   ]
  },
  {
   "cell_type": "code",
   "execution_count": null,
   "id": "96147cdd-721c-4943-9499-0527ea6f47a1",
   "metadata": {},
   "outputs": [],
   "source": [
    "print ('Classification Accuracy on Test dataset: ' ,accuracy_score(y_test, y_pred))"
   ]
  },
  {
   "cell_type": "code",
   "execution_count": null,
   "id": "e19b0fa0-58e5-418d-8889-d7c5f11b1255",
   "metadata": {},
   "outputs": [],
   "source": [
    "print ('Percent Error on Test dataset: ' ,percentError(y_pred,y_test))\n"
   ]
  },
  {
   "cell_type": "code",
   "execution_count": null,
   "id": "9e0e2d9c-8af9-4067-ae2a-39ffa4aa7f40",
   "metadata": {},
   "outputs": [],
   "source": [
    "cm=confusion_matrix(y_test, y_pred)\n",
    "print('Confusion matrix, without normalization')\n",
    "print(cm)\n",
    "plot_confusion_matrix(cm)\n"
   ]
  },
  {
   "cell_type": "code",
   "execution_count": null,
   "id": "0dc58687-bcfc-4527-8858-403fed6dde26",
   "metadata": {},
   "outputs": [],
   "source": [
    "cm_normalized = cm.astype('float') / cm.sum(axis=1)[:, np.newaxis]\n",
    "print('Normalized confusion matrix')\n",
    "print(cm_normalized)\n",
    "plot_confusion_matrix(cm_normalized, title='Normalized confusion matrix')\n"
   ]
  },
  {
   "cell_type": "code",
   "execution_count": null,
   "id": "86514ece-4781-47f9-938c-97412e12a199",
   "metadata": {},
   "outputs": [],
   "source": [
    "print(classification_report(y_test, y_pred, target_names=['Fake','Actual']))\n",
    "\n"
   ]
  },
  {
   "cell_type": "code",
   "execution_count": null,
   "id": "1d5040a9-f6ef-4d1d-8fd8-d6b442dbe8fc",
   "metadata": {},
   "outputs": [],
   "source": [
    "s=roc_auc_score(y_test, y_pred)\n",
    "print (\"roc_auc_score : \",s)"
   ]
  },
  {
   "cell_type": "code",
   "execution_count": null,
   "id": "fb240c73-4eac-4e43-95db-6602c2324a5c",
   "metadata": {},
   "outputs": [],
   "source": [
    "plot_roc_curve(y_test, y_pred)\n"
   ]
  },
  {
   "cell_type": "code",
   "execution_count": null,
   "id": "8fa151cf-81de-4c1e-9b9a-7abfcee72475",
   "metadata": {},
   "outputs": [],
   "source": []
  }
 ],
 "metadata": {
  "kernelspec": {
   "display_name": "Python 3 (ipykernel)",
   "language": "python",
   "name": "python3"
  },
  "language_info": {
   "name": ""
  }
 },
 "nbformat": 4,
 "nbformat_minor": 5
}
